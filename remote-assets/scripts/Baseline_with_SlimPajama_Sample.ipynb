{
  "cells": [
    {
      "cell_type": "code",
      "execution_count": 1,
      "metadata": {
        "id": "eejl2_sONWdS"
      },
      "outputs": [],
      "source": [
        "# %load_ext autoreload\n",
        "# %autoreload 2\n"
      ]
    },
    {
      "cell_type": "code",
      "execution_count": 2,
      "metadata": {
        "id": "x2bVdVq_NYei"
      },
      "outputs": [],
      "source": [
        "import os\n",
        "import torch\n"
      ]
    },
    {
      "cell_type": "code",
      "execution_count": 3,
      "metadata": {
        "colab": {
          "base_uri": "https://localhost:8080/"
        },
        "id": "00ow85egbkv9",
        "outputId": "bf5f8084-7e2b-4065-a71e-937cde73abfb"
      },
      "outputs": [
        {
          "data": {
            "text/plain": [
              "<torch._C.Generator at 0x7f05e40b54d0>"
            ]
          },
          "execution_count": 3,
          "metadata": {},
          "output_type": "execute_result"
        }
      ],
      "source": [
        "# random seed for reproducibility\n",
        "torch.manual_seed(42)\n"
      ]
    },
    {
      "cell_type": "code",
      "execution_count": 4,
      "metadata": {
        "colab": {
          "base_uri": "https://localhost:8080/"
        },
        "id": "ld4BQuBhBHGD",
        "outputId": "9b1906fa-b38d-4abe-fbe1-7fcd3cbdf4cd"
      },
      "outputs": [
        {
          "name": "stdout",
          "output_type": "stream",
          "text": [
            "cuda\n",
            "1\n"
          ]
        }
      ],
      "source": [
        "device = torch.device('cuda' if torch.cuda.is_available() else 'cpu')\n",
        "print(device)\n",
        "print(torch.cuda.device_count())\n"
      ]
    },
    {
      "cell_type": "code",
      "execution_count": 5,
      "metadata": {
        "colab": {
          "base_uri": "https://localhost:8080/"
        },
        "id": "UTlnvXySFuPW",
        "outputId": "b7e15359-f51c-49a0-e0a0-efc1835f200b"
      },
      "outputs": [],
      "source": [
        "# !pip -q install sentencepiece\n",
        "# !pip -q install datasets\n",
        "# !pip -q install fairscale\n",
        "# !pip -q install transformers\n",
        "# !pip -q install tqdm\n"
      ]
    },
    {
      "cell_type": "code",
      "execution_count": 6,
      "metadata": {
        "colab": {
          "base_uri": "https://localhost:8080/"
        },
        "id": "i4YNRuwkBM_m",
        "outputId": "c75522b3-a753-4e7f-b463-0a8b04bd5a0d"
      },
      "outputs": [
        {
          "name": "stderr",
          "output_type": "stream",
          "text": [
            "You are using the default legacy behaviour of the <class 'transformers.models.llama.tokenization_llama.LlamaTokenizer'>. This is expected, and simply means that the `legacy` (previous) behavior will be used so nothing changes for you. If you want to use the new behaviour, set `legacy=False`. This should only be set if you understand what it means, and thouroughly read the reason why this was added as explained in https://github.com/huggingface/transformers/pull/24565\n"
          ]
        }
      ],
      "source": [
        "\n",
        "# CRITICAL: Import the correct model.\n",
        "# from models.model_baseline_nokv_reduced import ModelArgs, Transformer\n",
        "from models.model_baseline_nokv import ModelArgs, Transformer\n",
        "from tqdm import tqdm\n",
        "from transformers import LlamaTokenizer\n",
        "\n",
        "tokenizer = LlamaTokenizer(\"./tokenizers/tokenizer.model\")\n",
        "tokenizer.pad_token = tokenizer.eos_token\n",
        "\n",
        "model_args = ModelArgs()\n",
        "model_args.vocab_size = len(tokenizer)\n"
      ]
    },
    {
      "cell_type": "code",
      "execution_count": 7,
      "metadata": {
        "id": "Cfmo4GqmSDzk"
      },
      "outputs": [],
      "source": [
        "# !export RANK=0\n"
      ]
    },
    {
      "cell_type": "code",
      "execution_count": 8,
      "metadata": {
        "colab": {
          "base_uri": "https://localhost:8080/"
        },
        "id": "YCdcfmYxBM_n",
        "outputId": "096e4984-77b5-4971-b1c3-84632a32877a"
      },
      "outputs": [
        {
          "name": "stdout",
          "output_type": "stream",
          "text": [
            "> initializing model parallel with size 1\n",
            "> initializing ddp with size 1\n",
            "> initializing pipeline with size 1\n"
          ]
        }
      ],
      "source": [
        "from fairscale.nn.model_parallel import initialize_model_parallel\n",
        "import torch.distributed as dist\n",
        "\n",
        "def setup(rank, world_size):\n",
        "    \"Sets up the process group and configuration for PyTorch Distributed Data Parallelism\"\n",
        "    os.environ[\"MASTER_ADDR\"] = 'localhost'\n",
        "    os.environ[\"MASTER_PORT\"] = \"12355\"\n",
        "\n",
        "    # Initialize the process group\n",
        "    if not dist.is_initialized():\n",
        "        dist.init_process_group(\"gloo\", rank=rank, world_size=world_size)\n",
        "\n",
        "def cleanup():\n",
        "    \"Cleans up the distributed environment\"\n",
        "    dist.destroy_process_group()\n",
        "\n",
        "setup(0, 1)\n",
        "\n",
        "\n",
        "# COMMENT IF INITIATED, OTHERWISE UNCOMMENT!!!!!\n",
        "initialize_model_parallel(1)\n"
      ]
    },
    {
      "cell_type": "code",
      "execution_count": 9,
      "metadata": {
        "colab": {
          "base_uri": "https://localhost:8080/"
        },
        "id": "L2E5TINBBM_o",
        "outputId": "f6c6649d-2ef9-43ec-b3d8-0fc53e11b10d"
      },
      "outputs": [
        {
          "data": {
            "application/vnd.jupyter.widget-view+json": {
              "model_id": "c7875eb864484644b488a3b441b52a7a",
              "version_major": 2,
              "version_minor": 0
            },
            "text/plain": [
              "Resolving data files:   0%|          | 0/48 [00:00<?, ?it/s]"
            ]
          },
          "metadata": {},
          "output_type": "display_data"
        },
        {
          "data": {
            "application/vnd.jupyter.widget-view+json": {
              "model_id": "3a57aa371de94b4dbf57fe060e6bef9f",
              "version_major": 2,
              "version_minor": 0
            },
            "text/plain": [
              "Resolving data files:   0%|          | 0/48 [00:00<?, ?it/s]"
            ]
          },
          "metadata": {},
          "output_type": "display_data"
        }
      ],
      "source": [
        "# Get Dataset.\n",
        "from datasets import load_dataset\n",
        "from torch.utils.data import Dataset\n",
        "\n",
        "class CustomDataset(Dataset):\n",
        "    def __init__(self, data):\n",
        "        self.data = data\n",
        "\n",
        "    def __len__(self):\n",
        "        return len(self.data)\n",
        "\n",
        "    def __getitem__(self, idx):\n",
        "        return self.data[idx][\"text\"]\n",
        "\n",
        "# SlimPajama dataset\n",
        "# https://huggingface.co/datasets/cerebras/SlimPajama-627B?row=0\n",
        "# Just for now, we use a small portion of the dataset. Later, we can use more.\n",
        "# data = load_dataset(\"cerebras/SlimPajama-627B\", split=\"train\").select(range(1000))\n",
        "data = load_dataset(\"DKYoon/SlimPajama-6B\", split=\"train\").select(range(5000))\n",
        "\n",
        "dataset = CustomDataset(data)\n",
        "data_loader = torch.utils.data.DataLoader(dataset, batch_size=32, shuffle=True, drop_last=True)\n"
      ]
    },
    {
      "cell_type": "code",
      "execution_count": 10,
      "metadata": {
        "id": "wLy77eTPbjxt"
      },
      "outputs": [],
      "source": [
        "# Model Details\n",
        "# model = Transformer(model_args)\n",
        "# model = torch.nn.DataParallel(Transformer(model_args))\n",
        "model = torch.nn.parallel.DistributedDataParallel(Transformer(model_args))\n",
        "criterion = torch.nn.CrossEntropyLoss()\n"
      ]
    },
    {
      "cell_type": "code",
      "execution_count": 11,
      "metadata": {
        "id": "8fafRDEE6nl1"
      },
      "outputs": [],
      "source": [
        "## Re-initialize the learnable weights\n",
        "import math\n",
        "for name, param in model.named_parameters():\n",
        "    if param.requires_grad:\n",
        "        if param.dim() >= 2:\n",
        "            torch.nn.init.kaiming_uniform_(param)\n",
        "        else:\n",
        "            # bias terms or 1D params, uniform init\n",
        "            bound = 1 / math.sqrt(param.size(0))\n",
        "            torch.nn.init.uniform_(param, -bound, bound)\n"
      ]
    },
    {
      "cell_type": "code",
      "execution_count": 12,
      "metadata": {
        "id": "Ylv-9IaCvkvU"
      },
      "outputs": [],
      "source": [
        "# Move model to cuda\n",
        "model = model.to(device)\n"
      ]
    },
    {
      "cell_type": "code",
      "execution_count": 13,
      "metadata": {
        "id": "EahxIxsHFWqZ"
      },
      "outputs": [],
      "source": [
        "# Declare optimizer with finalized model parameters (after parallel + initialization)\n",
        "optimizer = torch.optim.AdamW(model.parameters(), lr=3.0E-4)\n"
      ]
    },
    {
      "cell_type": "code",
      "execution_count": 14,
      "metadata": {},
      "outputs": [
        {
          "name": "stdout",
          "output_type": "stream",
          "text": [
            "Total number of parameters: 166740992\n",
            "Trainable number of parameters: 166740992\n"
          ]
        }
      ],
      "source": [
        "# See how large the model is.\n",
        "total_params = sum(p.numel() for p in model.parameters())\n",
        "print(f\"Total number of parameters: {total_params}\")\n",
        "\n",
        "trainable_params = sum(\n",
        "\tp.numel() for p in model.parameters() if p.requires_grad\n",
        ")\n",
        "print(f\"Trainable number of parameters: {trainable_params}\")\n"
      ]
    },
    {
      "cell_type": "code",
      "execution_count": 15,
      "metadata": {
        "id": "VRKgbz1wZ5YG"
      },
      "outputs": [],
      "source": [
        "# Storage of loss metrics\n",
        "import pickle\n",
        "def write_to_file(epoch_number, loss_values, avg_loss, file_path):    \n",
        "    # Open the file in binary append mode\n",
        "    with open(file_path, 'ab') as file:\n",
        "        # Serialize and write the epoch number\n",
        "        pickle.dump(f'Epoch {epoch_number}', file)\n",
        "        # Serialize and write the list of loss values\n",
        "        pickle.dump(loss_values, file)\n",
        "        # Average loss for the epoch\n",
        "        pickle.dump(avg_loss, file)\n"
      ]
    },
    {
      "cell_type": "code",
      "execution_count": 16,
      "metadata": {
        "id": "r8CeSzqldoHT"
      },
      "outputs": [],
      "source": [
        "# raise Exception(\"Please do not overwrite the files to avoid data losss; comment this line once done.\")\n",
        "SAVE_PATH = \"./checkpoints/baseline_slimpj_big_sample.pt\"\n",
        "LOSSES_PATH = \"./logs/losses/baseline_losses_slimpj_big_sample.txt\"\n",
        "TIMES_PATH = \"./logs/times/baseline_slimpj_big_sample_elapsed_time.txt\"\n",
        "EPOCHS = 1\n"
      ]
    },
    {
      "cell_type": "code",
      "execution_count": 17,
      "metadata": {
        "id": "wwXFjNEfgKL_"
      },
      "outputs": [],
      "source": [
        "# Check the storage of the model\n",
        "checkpoint = {\n",
        "    \"model_state_dict\": model.state_dict(),\n",
        "    \"optimizer_state_dict\": optimizer.state_dict(),\n",
        "    \"epoch\": -1,\n",
        "    \"loss\": -1,\n",
        "}\n",
        "torch.save(checkpoint, SAVE_PATH)\n",
        "del checkpoint\n"
      ]
    },
    {
      "cell_type": "code",
      "execution_count": 18,
      "metadata": {
        "id": "h3pNwbCmguMu"
      },
      "outputs": [],
      "source": [
        "# Check logging of losses\n",
        "write_to_file(-1, [-1, -2, -3], [-2], LOSSES_PATH)\n"
      ]
    },
    {
      "cell_type": "code",
      "execution_count": 19,
      "metadata": {},
      "outputs": [],
      "source": [
        "import time\n"
      ]
    },
    {
      "cell_type": "markdown",
      "metadata": {
        "id": "Fhpd5byY0bbA"
      },
      "source": [
        "# Training"
      ]
    },
    {
      "cell_type": "code",
      "execution_count": 20,
      "metadata": {
        "id": "K8_mLA7g5CwY"
      },
      "outputs": [
        {
          "name": "stdout",
          "output_type": "stream",
          "text": [
            "Number of batches: 156\n"
          ]
        },
        {
          "name": "stderr",
          "output_type": "stream",
          "text": [
            "1it [00:01,  1.60s/it]"
          ]
        },
        {
          "name": "stdout",
          "output_type": "stream",
          "text": [
            "Step: 0, Loss: 10.3782\n"
          ]
        },
        {
          "name": "stderr",
          "output_type": "stream",
          "text": [
            "2it [00:02,  1.28s/it]"
          ]
        },
        {
          "name": "stdout",
          "output_type": "stream",
          "text": [
            "Step: 1, Loss: 10.2651\n"
          ]
        },
        {
          "name": "stderr",
          "output_type": "stream",
          "text": [
            "3it [00:03,  1.20s/it]"
          ]
        },
        {
          "name": "stdout",
          "output_type": "stream",
          "text": [
            "Step: 2, Loss: 10.2152\n"
          ]
        },
        {
          "name": "stderr",
          "output_type": "stream",
          "text": [
            "4it [00:04,  1.19s/it]"
          ]
        },
        {
          "name": "stdout",
          "output_type": "stream",
          "text": [
            "Step: 3, Loss: 10.1475\n"
          ]
        },
        {
          "name": "stderr",
          "output_type": "stream",
          "text": [
            "5it [00:06,  1.19s/it]"
          ]
        },
        {
          "name": "stdout",
          "output_type": "stream",
          "text": [
            "Step: 4, Loss: 10.2171\n"
          ]
        },
        {
          "name": "stderr",
          "output_type": "stream",
          "text": [
            "6it [00:07,  1.13s/it]"
          ]
        },
        {
          "name": "stdout",
          "output_type": "stream",
          "text": [
            "Step: 5, Loss: 10.0209\n"
          ]
        },
        {
          "name": "stderr",
          "output_type": "stream",
          "text": [
            "7it [00:08,  1.09s/it]"
          ]
        },
        {
          "name": "stdout",
          "output_type": "stream",
          "text": [
            "Step: 6, Loss: 10.1154\n"
          ]
        },
        {
          "name": "stderr",
          "output_type": "stream",
          "text": [
            "8it [00:09,  1.07s/it]"
          ]
        },
        {
          "name": "stdout",
          "output_type": "stream",
          "text": [
            "Step: 7, Loss: 10.1308\n"
          ]
        },
        {
          "name": "stderr",
          "output_type": "stream",
          "text": [
            "9it [00:10,  1.11s/it]"
          ]
        },
        {
          "name": "stdout",
          "output_type": "stream",
          "text": [
            "Step: 8, Loss: 10.0763\n"
          ]
        },
        {
          "name": "stderr",
          "output_type": "stream",
          "text": [
            "10it [00:11,  1.09s/it]"
          ]
        },
        {
          "name": "stdout",
          "output_type": "stream",
          "text": [
            "Step: 9, Loss: 10.1268\n"
          ]
        },
        {
          "name": "stderr",
          "output_type": "stream",
          "text": [
            "11it [00:12,  1.10s/it]"
          ]
        },
        {
          "name": "stdout",
          "output_type": "stream",
          "text": [
            "Step: 10, Loss: 10.0964\n"
          ]
        },
        {
          "name": "stderr",
          "output_type": "stream",
          "text": [
            "12it [00:13,  1.09s/it]"
          ]
        },
        {
          "name": "stdout",
          "output_type": "stream",
          "text": [
            "Step: 11, Loss: 10.0470\n"
          ]
        },
        {
          "name": "stderr",
          "output_type": "stream",
          "text": [
            "13it [00:14,  1.07s/it]"
          ]
        },
        {
          "name": "stdout",
          "output_type": "stream",
          "text": [
            "Step: 12, Loss: 9.9828\n"
          ]
        },
        {
          "name": "stderr",
          "output_type": "stream",
          "text": [
            "14it [00:15,  1.06s/it]"
          ]
        },
        {
          "name": "stdout",
          "output_type": "stream",
          "text": [
            "Step: 13, Loss: 9.9685\n"
          ]
        },
        {
          "name": "stderr",
          "output_type": "stream",
          "text": [
            "15it [00:16,  1.07s/it]"
          ]
        },
        {
          "name": "stdout",
          "output_type": "stream",
          "text": [
            "Step: 14, Loss: 10.0027\n"
          ]
        },
        {
          "name": "stderr",
          "output_type": "stream",
          "text": [
            "16it [00:17,  1.06s/it]"
          ]
        },
        {
          "name": "stdout",
          "output_type": "stream",
          "text": [
            "Step: 15, Loss: 9.9893\n"
          ]
        },
        {
          "name": "stderr",
          "output_type": "stream",
          "text": [
            "17it [00:18,  1.06s/it]"
          ]
        },
        {
          "name": "stdout",
          "output_type": "stream",
          "text": [
            "Step: 16, Loss: 10.0243\n"
          ]
        },
        {
          "name": "stderr",
          "output_type": "stream",
          "text": [
            "18it [00:19,  1.05s/it]"
          ]
        },
        {
          "name": "stdout",
          "output_type": "stream",
          "text": [
            "Step: 17, Loss: 9.8462\n"
          ]
        },
        {
          "name": "stderr",
          "output_type": "stream",
          "text": [
            "19it [00:20,  1.04s/it]"
          ]
        },
        {
          "name": "stdout",
          "output_type": "stream",
          "text": [
            "Step: 18, Loss: 9.9327\n"
          ]
        },
        {
          "name": "stderr",
          "output_type": "stream",
          "text": [
            "20it [00:21,  1.04s/it]"
          ]
        },
        {
          "name": "stdout",
          "output_type": "stream",
          "text": [
            "Step: 19, Loss: 9.9652\n"
          ]
        },
        {
          "name": "stderr",
          "output_type": "stream",
          "text": [
            "21it [00:22,  1.03s/it]"
          ]
        },
        {
          "name": "stdout",
          "output_type": "stream",
          "text": [
            "Step: 20, Loss: 9.8144\n"
          ]
        },
        {
          "name": "stderr",
          "output_type": "stream",
          "text": [
            "22it [00:24,  1.05s/it]"
          ]
        },
        {
          "name": "stdout",
          "output_type": "stream",
          "text": [
            "Step: 21, Loss: 9.9814\n"
          ]
        },
        {
          "name": "stderr",
          "output_type": "stream",
          "text": [
            "23it [00:25,  1.08s/it]"
          ]
        },
        {
          "name": "stdout",
          "output_type": "stream",
          "text": [
            "Step: 22, Loss: 9.9327\n"
          ]
        },
        {
          "name": "stderr",
          "output_type": "stream",
          "text": [
            "24it [00:26,  1.07s/it]"
          ]
        },
        {
          "name": "stdout",
          "output_type": "stream",
          "text": [
            "Step: 23, Loss: 9.8281\n"
          ]
        },
        {
          "name": "stderr",
          "output_type": "stream",
          "text": [
            "25it [00:27,  1.06s/it]"
          ]
        },
        {
          "name": "stdout",
          "output_type": "stream",
          "text": [
            "Step: 24, Loss: 9.8350\n"
          ]
        },
        {
          "name": "stderr",
          "output_type": "stream",
          "text": [
            "26it [00:28,  1.07s/it]"
          ]
        },
        {
          "name": "stdout",
          "output_type": "stream",
          "text": [
            "Step: 25, Loss: 9.8087\n"
          ]
        },
        {
          "name": "stderr",
          "output_type": "stream",
          "text": [
            "27it [00:29,  1.05s/it]"
          ]
        },
        {
          "name": "stdout",
          "output_type": "stream",
          "text": [
            "Step: 26, Loss: 9.7252\n"
          ]
        },
        {
          "name": "stderr",
          "output_type": "stream",
          "text": [
            "28it [00:30,  1.07s/it]"
          ]
        },
        {
          "name": "stdout",
          "output_type": "stream",
          "text": [
            "Step: 27, Loss: 9.7008\n"
          ]
        },
        {
          "name": "stderr",
          "output_type": "stream",
          "text": [
            "29it [00:31,  1.07s/it]"
          ]
        },
        {
          "name": "stdout",
          "output_type": "stream",
          "text": [
            "Step: 28, Loss: 9.7697\n"
          ]
        },
        {
          "name": "stderr",
          "output_type": "stream",
          "text": [
            "30it [00:32,  1.10s/it]"
          ]
        },
        {
          "name": "stdout",
          "output_type": "stream",
          "text": [
            "Step: 29, Loss: 9.7846\n"
          ]
        },
        {
          "name": "stderr",
          "output_type": "stream",
          "text": [
            "31it [00:33,  1.08s/it]"
          ]
        },
        {
          "name": "stdout",
          "output_type": "stream",
          "text": [
            "Step: 30, Loss: 9.6053\n"
          ]
        },
        {
          "name": "stderr",
          "output_type": "stream",
          "text": [
            "32it [00:34,  1.09s/it]"
          ]
        },
        {
          "name": "stdout",
          "output_type": "stream",
          "text": [
            "Step: 31, Loss: 9.6692\n"
          ]
        },
        {
          "name": "stderr",
          "output_type": "stream",
          "text": [
            "33it [00:35,  1.08s/it]"
          ]
        },
        {
          "name": "stdout",
          "output_type": "stream",
          "text": [
            "Step: 32, Loss: 9.6262\n"
          ]
        },
        {
          "name": "stderr",
          "output_type": "stream",
          "text": [
            "34it [00:36,  1.06s/it]"
          ]
        },
        {
          "name": "stdout",
          "output_type": "stream",
          "text": [
            "Step: 33, Loss: 9.6912\n"
          ]
        },
        {
          "name": "stderr",
          "output_type": "stream",
          "text": [
            "35it [00:37,  1.06s/it]"
          ]
        },
        {
          "name": "stdout",
          "output_type": "stream",
          "text": [
            "Step: 34, Loss: 9.5781\n"
          ]
        },
        {
          "name": "stderr",
          "output_type": "stream",
          "text": [
            "36it [00:39,  1.05s/it]"
          ]
        },
        {
          "name": "stdout",
          "output_type": "stream",
          "text": [
            "Step: 35, Loss: 9.6039\n"
          ]
        },
        {
          "name": "stderr",
          "output_type": "stream",
          "text": [
            "37it [00:40,  1.06s/it]"
          ]
        },
        {
          "name": "stdout",
          "output_type": "stream",
          "text": [
            "Step: 36, Loss: 9.4328\n"
          ]
        },
        {
          "name": "stderr",
          "output_type": "stream",
          "text": [
            "38it [00:41,  1.06s/it]"
          ]
        },
        {
          "name": "stdout",
          "output_type": "stream",
          "text": [
            "Step: 37, Loss: 9.5137\n"
          ]
        },
        {
          "name": "stderr",
          "output_type": "stream",
          "text": [
            "39it [00:42,  1.05s/it]"
          ]
        },
        {
          "name": "stdout",
          "output_type": "stream",
          "text": [
            "Step: 38, Loss: 9.4516\n"
          ]
        },
        {
          "name": "stderr",
          "output_type": "stream",
          "text": [
            "40it [00:43,  1.06s/it]"
          ]
        },
        {
          "name": "stdout",
          "output_type": "stream",
          "text": [
            "Step: 39, Loss: 9.5641\n"
          ]
        },
        {
          "name": "stderr",
          "output_type": "stream",
          "text": [
            "41it [00:44,  1.05s/it]"
          ]
        },
        {
          "name": "stdout",
          "output_type": "stream",
          "text": [
            "Step: 40, Loss: 9.4057\n"
          ]
        },
        {
          "name": "stderr",
          "output_type": "stream",
          "text": [
            "42it [00:45,  1.05s/it]"
          ]
        },
        {
          "name": "stdout",
          "output_type": "stream",
          "text": [
            "Step: 41, Loss: 9.4248\n"
          ]
        },
        {
          "name": "stderr",
          "output_type": "stream",
          "text": [
            "43it [00:46,  1.05s/it]"
          ]
        },
        {
          "name": "stdout",
          "output_type": "stream",
          "text": [
            "Step: 42, Loss: 9.4606\n"
          ]
        },
        {
          "name": "stderr",
          "output_type": "stream",
          "text": [
            "44it [00:47,  1.05s/it]"
          ]
        },
        {
          "name": "stdout",
          "output_type": "stream",
          "text": [
            "Step: 43, Loss: 9.4095\n"
          ]
        },
        {
          "name": "stderr",
          "output_type": "stream",
          "text": [
            "45it [00:48,  1.04s/it]"
          ]
        },
        {
          "name": "stdout",
          "output_type": "stream",
          "text": [
            "Step: 44, Loss: 9.2758\n"
          ]
        },
        {
          "name": "stderr",
          "output_type": "stream",
          "text": [
            "46it [00:49,  1.04s/it]"
          ]
        },
        {
          "name": "stdout",
          "output_type": "stream",
          "text": [
            "Step: 45, Loss: 9.2743\n"
          ]
        },
        {
          "name": "stderr",
          "output_type": "stream",
          "text": [
            "47it [00:50,  1.05s/it]"
          ]
        },
        {
          "name": "stdout",
          "output_type": "stream",
          "text": [
            "Step: 46, Loss: 9.2815\n"
          ]
        },
        {
          "name": "stderr",
          "output_type": "stream",
          "text": [
            "48it [00:51,  1.05s/it]"
          ]
        },
        {
          "name": "stdout",
          "output_type": "stream",
          "text": [
            "Step: 47, Loss: 9.2164\n"
          ]
        },
        {
          "name": "stderr",
          "output_type": "stream",
          "text": [
            "49it [00:52,  1.12s/it]"
          ]
        },
        {
          "name": "stdout",
          "output_type": "stream",
          "text": [
            "Step: 48, Loss: 9.2564\n"
          ]
        },
        {
          "name": "stderr",
          "output_type": "stream",
          "text": [
            "50it [00:53,  1.09s/it]"
          ]
        },
        {
          "name": "stdout",
          "output_type": "stream",
          "text": [
            "Step: 49, Loss: 9.1694\n"
          ]
        },
        {
          "name": "stderr",
          "output_type": "stream",
          "text": [
            "51it [00:55,  1.10s/it]"
          ]
        },
        {
          "name": "stdout",
          "output_type": "stream",
          "text": [
            "Step: 50, Loss: 9.3047\n"
          ]
        },
        {
          "name": "stderr",
          "output_type": "stream",
          "text": [
            "52it [00:56,  1.10s/it]"
          ]
        },
        {
          "name": "stdout",
          "output_type": "stream",
          "text": [
            "Step: 51, Loss: 9.2258\n"
          ]
        },
        {
          "name": "stderr",
          "output_type": "stream",
          "text": [
            "53it [00:57,  1.10s/it]"
          ]
        },
        {
          "name": "stdout",
          "output_type": "stream",
          "text": [
            "Step: 52, Loss: 9.1193\n"
          ]
        },
        {
          "name": "stderr",
          "output_type": "stream",
          "text": [
            "54it [00:58,  1.08s/it]"
          ]
        },
        {
          "name": "stdout",
          "output_type": "stream",
          "text": [
            "Step: 53, Loss: 8.9283\n"
          ]
        },
        {
          "name": "stderr",
          "output_type": "stream",
          "text": [
            "55it [00:59,  1.08s/it]"
          ]
        },
        {
          "name": "stdout",
          "output_type": "stream",
          "text": [
            "Step: 54, Loss: 9.0248\n"
          ]
        },
        {
          "name": "stderr",
          "output_type": "stream",
          "text": [
            "56it [01:00,  1.09s/it]"
          ]
        },
        {
          "name": "stdout",
          "output_type": "stream",
          "text": [
            "Step: 55, Loss: 9.0588\n"
          ]
        },
        {
          "name": "stderr",
          "output_type": "stream",
          "text": [
            "57it [01:01,  1.07s/it]"
          ]
        },
        {
          "name": "stdout",
          "output_type": "stream",
          "text": [
            "Step: 56, Loss: 8.9204\n"
          ]
        },
        {
          "name": "stderr",
          "output_type": "stream",
          "text": [
            "58it [01:02,  1.06s/it]"
          ]
        },
        {
          "name": "stdout",
          "output_type": "stream",
          "text": [
            "Step: 57, Loss: 9.0081\n"
          ]
        },
        {
          "name": "stderr",
          "output_type": "stream",
          "text": [
            "59it [01:03,  1.07s/it]"
          ]
        },
        {
          "name": "stdout",
          "output_type": "stream",
          "text": [
            "Step: 58, Loss: 8.7945\n"
          ]
        },
        {
          "name": "stderr",
          "output_type": "stream",
          "text": [
            "60it [01:04,  1.06s/it]"
          ]
        },
        {
          "name": "stdout",
          "output_type": "stream",
          "text": [
            "Step: 59, Loss: 8.8299\n"
          ]
        },
        {
          "name": "stderr",
          "output_type": "stream",
          "text": [
            "61it [01:05,  1.09s/it]"
          ]
        },
        {
          "name": "stdout",
          "output_type": "stream",
          "text": [
            "Step: 60, Loss: 8.9116\n"
          ]
        },
        {
          "name": "stderr",
          "output_type": "stream",
          "text": [
            "62it [01:06,  1.09s/it]"
          ]
        },
        {
          "name": "stdout",
          "output_type": "stream",
          "text": [
            "Step: 61, Loss: 8.8310\n"
          ]
        },
        {
          "name": "stderr",
          "output_type": "stream",
          "text": [
            "63it [01:08,  1.09s/it]"
          ]
        },
        {
          "name": "stdout",
          "output_type": "stream",
          "text": [
            "Step: 62, Loss: 8.7177\n"
          ]
        },
        {
          "name": "stderr",
          "output_type": "stream",
          "text": [
            "64it [01:09,  1.07s/it]"
          ]
        },
        {
          "name": "stdout",
          "output_type": "stream",
          "text": [
            "Step: 63, Loss: 8.5853\n"
          ]
        },
        {
          "name": "stderr",
          "output_type": "stream",
          "text": [
            "65it [01:10,  1.05s/it]"
          ]
        },
        {
          "name": "stdout",
          "output_type": "stream",
          "text": [
            "Step: 64, Loss: 8.5965\n"
          ]
        },
        {
          "name": "stderr",
          "output_type": "stream",
          "text": [
            "66it [01:11,  1.05s/it]"
          ]
        },
        {
          "name": "stdout",
          "output_type": "stream",
          "text": [
            "Step: 65, Loss: 8.5767\n"
          ]
        },
        {
          "name": "stderr",
          "output_type": "stream",
          "text": [
            "67it [01:12,  1.07s/it]"
          ]
        },
        {
          "name": "stdout",
          "output_type": "stream",
          "text": [
            "Step: 66, Loss: 8.6318\n"
          ]
        },
        {
          "name": "stderr",
          "output_type": "stream",
          "text": [
            "68it [01:13,  1.06s/it]"
          ]
        },
        {
          "name": "stdout",
          "output_type": "stream",
          "text": [
            "Step: 67, Loss: 8.4536\n"
          ]
        },
        {
          "name": "stderr",
          "output_type": "stream",
          "text": [
            "69it [01:14,  1.06s/it]"
          ]
        },
        {
          "name": "stdout",
          "output_type": "stream",
          "text": [
            "Step: 68, Loss: 8.4213\n"
          ]
        },
        {
          "name": "stderr",
          "output_type": "stream",
          "text": [
            "70it [01:15,  1.06s/it]"
          ]
        },
        {
          "name": "stdout",
          "output_type": "stream",
          "text": [
            "Step: 69, Loss: 8.5885\n"
          ]
        },
        {
          "name": "stderr",
          "output_type": "stream",
          "text": [
            "71it [01:16,  1.08s/it]"
          ]
        },
        {
          "name": "stdout",
          "output_type": "stream",
          "text": [
            "Step: 70, Loss: 8.4566\n"
          ]
        },
        {
          "name": "stderr",
          "output_type": "stream",
          "text": [
            "72it [01:17,  1.08s/it]"
          ]
        },
        {
          "name": "stdout",
          "output_type": "stream",
          "text": [
            "Step: 71, Loss: 8.4608\n"
          ]
        },
        {
          "name": "stderr",
          "output_type": "stream",
          "text": [
            "73it [01:18,  1.11s/it]"
          ]
        },
        {
          "name": "stdout",
          "output_type": "stream",
          "text": [
            "Step: 72, Loss: 8.2852\n"
          ]
        },
        {
          "name": "stderr",
          "output_type": "stream",
          "text": [
            "74it [01:19,  1.12s/it]"
          ]
        },
        {
          "name": "stdout",
          "output_type": "stream",
          "text": [
            "Step: 73, Loss: 8.3424\n"
          ]
        },
        {
          "name": "stderr",
          "output_type": "stream",
          "text": [
            "75it [01:21,  1.13s/it]"
          ]
        },
        {
          "name": "stdout",
          "output_type": "stream",
          "text": [
            "Step: 74, Loss: 8.2119\n"
          ]
        },
        {
          "name": "stderr",
          "output_type": "stream",
          "text": [
            "76it [01:22,  1.11s/it]"
          ]
        },
        {
          "name": "stdout",
          "output_type": "stream",
          "text": [
            "Step: 75, Loss: 8.4281\n"
          ]
        },
        {
          "name": "stderr",
          "output_type": "stream",
          "text": [
            "77it [01:23,  1.09s/it]"
          ]
        },
        {
          "name": "stdout",
          "output_type": "stream",
          "text": [
            "Step: 76, Loss: 8.1566\n"
          ]
        },
        {
          "name": "stderr",
          "output_type": "stream",
          "text": [
            "78it [01:24,  1.08s/it]"
          ]
        },
        {
          "name": "stdout",
          "output_type": "stream",
          "text": [
            "Step: 77, Loss: 8.2019\n"
          ]
        },
        {
          "name": "stderr",
          "output_type": "stream",
          "text": [
            "79it [01:25,  1.07s/it]"
          ]
        },
        {
          "name": "stdout",
          "output_type": "stream",
          "text": [
            "Step: 78, Loss: 7.9862\n"
          ]
        },
        {
          "name": "stderr",
          "output_type": "stream",
          "text": [
            "80it [01:26,  1.07s/it]"
          ]
        },
        {
          "name": "stdout",
          "output_type": "stream",
          "text": [
            "Step: 79, Loss: 8.0931\n"
          ]
        },
        {
          "name": "stderr",
          "output_type": "stream",
          "text": [
            "81it [01:27,  1.08s/it]"
          ]
        },
        {
          "name": "stdout",
          "output_type": "stream",
          "text": [
            "Step: 80, Loss: 7.9555\n"
          ]
        },
        {
          "name": "stderr",
          "output_type": "stream",
          "text": [
            "82it [01:28,  1.08s/it]"
          ]
        },
        {
          "name": "stdout",
          "output_type": "stream",
          "text": [
            "Step: 81, Loss: 7.9043\n"
          ]
        },
        {
          "name": "stderr",
          "output_type": "stream",
          "text": [
            "83it [01:29,  1.07s/it]"
          ]
        },
        {
          "name": "stdout",
          "output_type": "stream",
          "text": [
            "Step: 82, Loss: 7.8466\n"
          ]
        },
        {
          "name": "stderr",
          "output_type": "stream",
          "text": [
            "84it [01:30,  1.07s/it]"
          ]
        },
        {
          "name": "stdout",
          "output_type": "stream",
          "text": [
            "Step: 83, Loss: 7.8753\n"
          ]
        },
        {
          "name": "stderr",
          "output_type": "stream",
          "text": [
            "85it [01:31,  1.10s/it]"
          ]
        },
        {
          "name": "stdout",
          "output_type": "stream",
          "text": [
            "Step: 84, Loss: 7.7030\n"
          ]
        },
        {
          "name": "stderr",
          "output_type": "stream",
          "text": [
            "86it [01:32,  1.09s/it]"
          ]
        },
        {
          "name": "stdout",
          "output_type": "stream",
          "text": [
            "Step: 85, Loss: 7.8169\n"
          ]
        },
        {
          "name": "stderr",
          "output_type": "stream",
          "text": [
            "87it [01:33,  1.09s/it]"
          ]
        },
        {
          "name": "stdout",
          "output_type": "stream",
          "text": [
            "Step: 86, Loss: 7.6357\n"
          ]
        },
        {
          "name": "stderr",
          "output_type": "stream",
          "text": [
            "88it [01:35,  1.09s/it]"
          ]
        },
        {
          "name": "stdout",
          "output_type": "stream",
          "text": [
            "Step: 87, Loss: 7.6254\n"
          ]
        },
        {
          "name": "stderr",
          "output_type": "stream",
          "text": [
            "89it [01:36,  1.08s/it]"
          ]
        },
        {
          "name": "stdout",
          "output_type": "stream",
          "text": [
            "Step: 88, Loss: 7.7064\n"
          ]
        },
        {
          "name": "stderr",
          "output_type": "stream",
          "text": [
            "90it [01:37,  1.07s/it]"
          ]
        },
        {
          "name": "stdout",
          "output_type": "stream",
          "text": [
            "Step: 89, Loss: 7.4981\n"
          ]
        },
        {
          "name": "stderr",
          "output_type": "stream",
          "text": [
            "91it [01:38,  1.08s/it]"
          ]
        },
        {
          "name": "stdout",
          "output_type": "stream",
          "text": [
            "Step: 90, Loss: 7.6205\n"
          ]
        },
        {
          "name": "stderr",
          "output_type": "stream",
          "text": [
            "92it [01:39,  1.09s/it]"
          ]
        },
        {
          "name": "stdout",
          "output_type": "stream",
          "text": [
            "Step: 91, Loss: 7.4083\n"
          ]
        },
        {
          "name": "stderr",
          "output_type": "stream",
          "text": [
            "93it [01:40,  1.09s/it]"
          ]
        },
        {
          "name": "stdout",
          "output_type": "stream",
          "text": [
            "Step: 92, Loss: 7.6096\n"
          ]
        },
        {
          "name": "stderr",
          "output_type": "stream",
          "text": [
            "94it [01:41,  1.09s/it]"
          ]
        },
        {
          "name": "stdout",
          "output_type": "stream",
          "text": [
            "Step: 93, Loss: 7.4024\n"
          ]
        },
        {
          "name": "stderr",
          "output_type": "stream",
          "text": [
            "95it [01:42,  1.09s/it]"
          ]
        },
        {
          "name": "stdout",
          "output_type": "stream",
          "text": [
            "Step: 94, Loss: 7.3434\n"
          ]
        },
        {
          "name": "stderr",
          "output_type": "stream",
          "text": [
            "96it [01:43,  1.08s/it]"
          ]
        },
        {
          "name": "stdout",
          "output_type": "stream",
          "text": [
            "Step: 95, Loss: 7.3156\n"
          ]
        },
        {
          "name": "stderr",
          "output_type": "stream",
          "text": [
            "97it [01:44,  1.08s/it]"
          ]
        },
        {
          "name": "stdout",
          "output_type": "stream",
          "text": [
            "Step: 96, Loss: 7.3541\n"
          ]
        },
        {
          "name": "stderr",
          "output_type": "stream",
          "text": [
            "98it [01:45,  1.08s/it]"
          ]
        },
        {
          "name": "stdout",
          "output_type": "stream",
          "text": [
            "Step: 97, Loss: 7.1702\n"
          ]
        },
        {
          "name": "stderr",
          "output_type": "stream",
          "text": [
            "99it [01:46,  1.08s/it]"
          ]
        },
        {
          "name": "stdout",
          "output_type": "stream",
          "text": [
            "Step: 98, Loss: 7.0982\n"
          ]
        },
        {
          "name": "stderr",
          "output_type": "stream",
          "text": [
            "100it [01:47,  1.08s/it]"
          ]
        },
        {
          "name": "stdout",
          "output_type": "stream",
          "text": [
            "Step: 99, Loss: 7.2374\n"
          ]
        },
        {
          "name": "stderr",
          "output_type": "stream",
          "text": [
            "101it [01:49,  1.11s/it]"
          ]
        },
        {
          "name": "stdout",
          "output_type": "stream",
          "text": [
            "Step: 100, Loss: 7.1895\n"
          ]
        },
        {
          "name": "stderr",
          "output_type": "stream",
          "text": [
            "102it [01:50,  1.14s/it]"
          ]
        },
        {
          "name": "stdout",
          "output_type": "stream",
          "text": [
            "Step: 101, Loss: 6.9928\n"
          ]
        },
        {
          "name": "stderr",
          "output_type": "stream",
          "text": [
            "103it [01:51,  1.12s/it]"
          ]
        },
        {
          "name": "stdout",
          "output_type": "stream",
          "text": [
            "Step: 102, Loss: 7.0799\n"
          ]
        },
        {
          "name": "stderr",
          "output_type": "stream",
          "text": [
            "104it [01:52,  1.09s/it]"
          ]
        },
        {
          "name": "stdout",
          "output_type": "stream",
          "text": [
            "Step: 103, Loss: 6.7477\n"
          ]
        },
        {
          "name": "stderr",
          "output_type": "stream",
          "text": [
            "105it [01:53,  1.08s/it]"
          ]
        },
        {
          "name": "stdout",
          "output_type": "stream",
          "text": [
            "Step: 104, Loss: 6.8835\n"
          ]
        },
        {
          "name": "stderr",
          "output_type": "stream",
          "text": [
            "106it [01:54,  1.07s/it]"
          ]
        },
        {
          "name": "stdout",
          "output_type": "stream",
          "text": [
            "Step: 105, Loss: 6.6626\n"
          ]
        },
        {
          "name": "stderr",
          "output_type": "stream",
          "text": [
            "107it [01:55,  1.07s/it]"
          ]
        },
        {
          "name": "stdout",
          "output_type": "stream",
          "text": [
            "Step: 106, Loss: 6.4452\n"
          ]
        },
        {
          "name": "stderr",
          "output_type": "stream",
          "text": [
            "108it [01:56,  1.07s/it]"
          ]
        },
        {
          "name": "stdout",
          "output_type": "stream",
          "text": [
            "Step: 107, Loss: 6.6592\n"
          ]
        },
        {
          "name": "stderr",
          "output_type": "stream",
          "text": [
            "109it [01:57,  1.07s/it]"
          ]
        },
        {
          "name": "stdout",
          "output_type": "stream",
          "text": [
            "Step: 108, Loss: 6.6392\n"
          ]
        },
        {
          "name": "stderr",
          "output_type": "stream",
          "text": [
            "110it [01:58,  1.07s/it]"
          ]
        },
        {
          "name": "stdout",
          "output_type": "stream",
          "text": [
            "Step: 109, Loss: 6.5500\n"
          ]
        },
        {
          "name": "stderr",
          "output_type": "stream",
          "text": [
            "111it [02:00,  1.11s/it]"
          ]
        },
        {
          "name": "stdout",
          "output_type": "stream",
          "text": [
            "Step: 110, Loss: 6.5042\n"
          ]
        },
        {
          "name": "stderr",
          "output_type": "stream",
          "text": [
            "112it [02:01,  1.09s/it]"
          ]
        },
        {
          "name": "stdout",
          "output_type": "stream",
          "text": [
            "Step: 111, Loss: 6.4389\n"
          ]
        },
        {
          "name": "stderr",
          "output_type": "stream",
          "text": [
            "113it [02:02,  1.08s/it]"
          ]
        },
        {
          "name": "stdout",
          "output_type": "stream",
          "text": [
            "Step: 112, Loss: 6.2517\n"
          ]
        },
        {
          "name": "stderr",
          "output_type": "stream",
          "text": [
            "114it [02:03,  1.07s/it]"
          ]
        },
        {
          "name": "stdout",
          "output_type": "stream",
          "text": [
            "Step: 113, Loss: 5.9410\n"
          ]
        },
        {
          "name": "stderr",
          "output_type": "stream",
          "text": [
            "115it [02:04,  1.09s/it]"
          ]
        },
        {
          "name": "stdout",
          "output_type": "stream",
          "text": [
            "Step: 114, Loss: 6.1999\n"
          ]
        },
        {
          "name": "stderr",
          "output_type": "stream",
          "text": [
            "116it [02:05,  1.08s/it]"
          ]
        },
        {
          "name": "stdout",
          "output_type": "stream",
          "text": [
            "Step: 115, Loss: 6.0666\n"
          ]
        },
        {
          "name": "stderr",
          "output_type": "stream",
          "text": [
            "117it [02:06,  1.08s/it]"
          ]
        },
        {
          "name": "stdout",
          "output_type": "stream",
          "text": [
            "Step: 116, Loss: 6.2548\n"
          ]
        },
        {
          "name": "stderr",
          "output_type": "stream",
          "text": [
            "118it [02:07,  1.11s/it]"
          ]
        },
        {
          "name": "stdout",
          "output_type": "stream",
          "text": [
            "Step: 117, Loss: 6.0420\n"
          ]
        },
        {
          "name": "stderr",
          "output_type": "stream",
          "text": [
            "119it [02:08,  1.10s/it]"
          ]
        },
        {
          "name": "stdout",
          "output_type": "stream",
          "text": [
            "Step: 118, Loss: 6.1931\n"
          ]
        },
        {
          "name": "stderr",
          "output_type": "stream",
          "text": [
            "120it [02:09,  1.08s/it]"
          ]
        },
        {
          "name": "stdout",
          "output_type": "stream",
          "text": [
            "Step: 119, Loss: 5.7846\n"
          ]
        },
        {
          "name": "stderr",
          "output_type": "stream",
          "text": [
            "121it [02:10,  1.08s/it]"
          ]
        },
        {
          "name": "stdout",
          "output_type": "stream",
          "text": [
            "Step: 120, Loss: 5.6186\n"
          ]
        },
        {
          "name": "stderr",
          "output_type": "stream",
          "text": [
            "122it [02:11,  1.07s/it]"
          ]
        },
        {
          "name": "stdout",
          "output_type": "stream",
          "text": [
            "Step: 121, Loss: 5.7617\n"
          ]
        },
        {
          "name": "stderr",
          "output_type": "stream",
          "text": [
            "123it [02:12,  1.07s/it]"
          ]
        },
        {
          "name": "stdout",
          "output_type": "stream",
          "text": [
            "Step: 122, Loss: 5.7873\n"
          ]
        },
        {
          "name": "stderr",
          "output_type": "stream",
          "text": [
            "124it [02:14,  1.07s/it]"
          ]
        },
        {
          "name": "stdout",
          "output_type": "stream",
          "text": [
            "Step: 123, Loss: 5.5110\n"
          ]
        },
        {
          "name": "stderr",
          "output_type": "stream",
          "text": [
            "125it [02:15,  1.07s/it]"
          ]
        },
        {
          "name": "stdout",
          "output_type": "stream",
          "text": [
            "Step: 124, Loss: 5.4085\n"
          ]
        },
        {
          "name": "stderr",
          "output_type": "stream",
          "text": [
            "126it [02:16,  1.06s/it]"
          ]
        },
        {
          "name": "stdout",
          "output_type": "stream",
          "text": [
            "Step: 125, Loss: 5.3641\n"
          ]
        },
        {
          "name": "stderr",
          "output_type": "stream",
          "text": [
            "127it [02:17,  1.07s/it]"
          ]
        },
        {
          "name": "stdout",
          "output_type": "stream",
          "text": [
            "Step: 126, Loss: 5.7709\n"
          ]
        },
        {
          "name": "stderr",
          "output_type": "stream",
          "text": [
            "128it [02:18,  1.07s/it]"
          ]
        },
        {
          "name": "stdout",
          "output_type": "stream",
          "text": [
            "Step: 127, Loss: 5.3058\n"
          ]
        },
        {
          "name": "stderr",
          "output_type": "stream",
          "text": [
            "129it [02:19,  1.07s/it]"
          ]
        },
        {
          "name": "stdout",
          "output_type": "stream",
          "text": [
            "Step: 128, Loss: 5.4968\n"
          ]
        },
        {
          "name": "stderr",
          "output_type": "stream",
          "text": [
            "130it [02:20,  1.06s/it]"
          ]
        },
        {
          "name": "stdout",
          "output_type": "stream",
          "text": [
            "Step: 129, Loss: 5.4541\n"
          ]
        },
        {
          "name": "stderr",
          "output_type": "stream",
          "text": [
            "131it [02:21,  1.07s/it]"
          ]
        },
        {
          "name": "stdout",
          "output_type": "stream",
          "text": [
            "Step: 130, Loss: 5.4839\n"
          ]
        },
        {
          "name": "stderr",
          "output_type": "stream",
          "text": [
            "132it [02:22,  1.07s/it]"
          ]
        },
        {
          "name": "stdout",
          "output_type": "stream",
          "text": [
            "Step: 131, Loss: 5.1147\n"
          ]
        },
        {
          "name": "stderr",
          "output_type": "stream",
          "text": [
            "133it [02:24,  1.44s/it]"
          ]
        },
        {
          "name": "stdout",
          "output_type": "stream",
          "text": [
            "Step: 132, Loss: 4.9913\n"
          ]
        },
        {
          "name": "stderr",
          "output_type": "stream",
          "text": [
            "134it [02:25,  1.32s/it]"
          ]
        },
        {
          "name": "stdout",
          "output_type": "stream",
          "text": [
            "Step: 133, Loss: 5.1885\n"
          ]
        },
        {
          "name": "stderr",
          "output_type": "stream",
          "text": [
            "135it [02:27,  1.24s/it]"
          ]
        },
        {
          "name": "stdout",
          "output_type": "stream",
          "text": [
            "Step: 134, Loss: 4.9379\n"
          ]
        },
        {
          "name": "stderr",
          "output_type": "stream",
          "text": [
            "136it [02:28,  1.18s/it]"
          ]
        },
        {
          "name": "stdout",
          "output_type": "stream",
          "text": [
            "Step: 135, Loss: 4.8107\n"
          ]
        },
        {
          "name": "stderr",
          "output_type": "stream",
          "text": [
            "137it [02:29,  1.16s/it]"
          ]
        },
        {
          "name": "stdout",
          "output_type": "stream",
          "text": [
            "Step: 136, Loss: 4.9975\n"
          ]
        },
        {
          "name": "stderr",
          "output_type": "stream",
          "text": [
            "138it [02:30,  1.14s/it]"
          ]
        },
        {
          "name": "stdout",
          "output_type": "stream",
          "text": [
            "Step: 137, Loss: 4.7715\n"
          ]
        },
        {
          "name": "stderr",
          "output_type": "stream",
          "text": [
            "139it [02:31,  1.11s/it]"
          ]
        },
        {
          "name": "stdout",
          "output_type": "stream",
          "text": [
            "Step: 138, Loss: 4.6335\n"
          ]
        },
        {
          "name": "stderr",
          "output_type": "stream",
          "text": [
            "140it [02:32,  1.09s/it]"
          ]
        },
        {
          "name": "stdout",
          "output_type": "stream",
          "text": [
            "Step: 139, Loss: 4.6022\n"
          ]
        },
        {
          "name": "stderr",
          "output_type": "stream",
          "text": [
            "141it [02:33,  1.07s/it]"
          ]
        },
        {
          "name": "stdout",
          "output_type": "stream",
          "text": [
            "Step: 140, Loss: 4.5038\n"
          ]
        },
        {
          "name": "stderr",
          "output_type": "stream",
          "text": [
            "142it [02:34,  1.07s/it]"
          ]
        },
        {
          "name": "stdout",
          "output_type": "stream",
          "text": [
            "Step: 141, Loss: 4.6590\n"
          ]
        },
        {
          "name": "stderr",
          "output_type": "stream",
          "text": [
            "143it [02:35,  1.10s/it]"
          ]
        },
        {
          "name": "stdout",
          "output_type": "stream",
          "text": [
            "Step: 142, Loss: 4.5225\n"
          ]
        },
        {
          "name": "stderr",
          "output_type": "stream",
          "text": [
            "144it [02:36,  1.09s/it]"
          ]
        },
        {
          "name": "stdout",
          "output_type": "stream",
          "text": [
            "Step: 143, Loss: 4.4517\n"
          ]
        },
        {
          "name": "stderr",
          "output_type": "stream",
          "text": [
            "145it [02:37,  1.09s/it]"
          ]
        },
        {
          "name": "stdout",
          "output_type": "stream",
          "text": [
            "Step: 144, Loss: 4.5529\n"
          ]
        },
        {
          "name": "stderr",
          "output_type": "stream",
          "text": [
            "146it [02:38,  1.08s/it]"
          ]
        },
        {
          "name": "stdout",
          "output_type": "stream",
          "text": [
            "Step: 145, Loss: 4.5998\n"
          ]
        },
        {
          "name": "stderr",
          "output_type": "stream",
          "text": [
            "147it [02:39,  1.10s/it]"
          ]
        },
        {
          "name": "stdout",
          "output_type": "stream",
          "text": [
            "Step: 146, Loss: 4.6551\n"
          ]
        },
        {
          "name": "stderr",
          "output_type": "stream",
          "text": [
            "148it [02:41,  1.09s/it]"
          ]
        },
        {
          "name": "stdout",
          "output_type": "stream",
          "text": [
            "Step: 147, Loss: 4.4351\n"
          ]
        },
        {
          "name": "stderr",
          "output_type": "stream",
          "text": [
            "149it [02:42,  1.08s/it]"
          ]
        },
        {
          "name": "stdout",
          "output_type": "stream",
          "text": [
            "Step: 148, Loss: 4.2553\n"
          ]
        },
        {
          "name": "stderr",
          "output_type": "stream",
          "text": [
            "150it [02:43,  1.08s/it]"
          ]
        },
        {
          "name": "stdout",
          "output_type": "stream",
          "text": [
            "Step: 149, Loss: 3.6517\n"
          ]
        },
        {
          "name": "stderr",
          "output_type": "stream",
          "text": [
            "151it [02:44,  1.07s/it]"
          ]
        },
        {
          "name": "stdout",
          "output_type": "stream",
          "text": [
            "Step: 150, Loss: 3.7746\n"
          ]
        },
        {
          "name": "stderr",
          "output_type": "stream",
          "text": [
            "152it [02:45,  1.09s/it]"
          ]
        },
        {
          "name": "stdout",
          "output_type": "stream",
          "text": [
            "Step: 151, Loss: 3.6325\n"
          ]
        },
        {
          "name": "stderr",
          "output_type": "stream",
          "text": [
            "153it [02:46,  1.12s/it]"
          ]
        },
        {
          "name": "stdout",
          "output_type": "stream",
          "text": [
            "Step: 152, Loss: 3.6976\n"
          ]
        },
        {
          "name": "stderr",
          "output_type": "stream",
          "text": [
            "154it [02:47,  1.11s/it]"
          ]
        },
        {
          "name": "stdout",
          "output_type": "stream",
          "text": [
            "Step: 153, Loss: 3.8651\n"
          ]
        },
        {
          "name": "stderr",
          "output_type": "stream",
          "text": [
            "155it [02:48,  1.10s/it]"
          ]
        },
        {
          "name": "stdout",
          "output_type": "stream",
          "text": [
            "Step: 154, Loss: 3.8129\n"
          ]
        },
        {
          "name": "stderr",
          "output_type": "stream",
          "text": [
            "156it [02:49,  1.09s/it]"
          ]
        },
        {
          "name": "stdout",
          "output_type": "stream",
          "text": [
            "Step: 155, Loss: 4.0546\n",
            "Epoch 0 Complete\n"
          ]
        },
        {
          "name": "stderr",
          "output_type": "stream",
          "text": [
            "\n"
          ]
        }
      ],
      "source": [
        "losses = []\n",
        "# Log a 100K losses\n",
        "log_every = max(1, (EPOCHS * len(data_loader)) // 100_000)\n",
        "print(\"Number of batches:\", len(data_loader))\n",
        "model.train()\n",
        "start_time = time.time()\n",
        "# with torch.autograd.detect_anomaly():\n",
        "for epoch in range(EPOCHS):\n",
        "    total_loss = 0\n",
        "    for c, batch in tqdm(enumerate(data_loader)):\n",
        "        # Batch size x Max Seq LEn\n",
        "        sample = tokenizer(batch, padding=True, truncation=True, return_tensors=\"pt\", max_length=model_args.max_seq_len)[\"input_ids\"].to(device)\n",
        "        target = sample.detach()\n",
        "\n",
        "        # Batch size x Max Seq Len x Vocab Size\n",
        "        optimizer.zero_grad()\n",
        "        prediction = model(sample, 0)\n",
        "\n",
        "        # Ensure swapping of axes\n",
        "        loss = criterion(prediction.transpose(1, 2), target)\n",
        "        loss.backward()\n",
        "\n",
        "        # Loss logging\n",
        "        total_loss += loss.item()\n",
        "        if c % log_every == 0:\n",
        "            print(f\"Step: {c}, Loss: {loss.item():.4f}\")\n",
        "            losses.append(loss.item())\n",
        "\n",
        "        # Change model weights\n",
        "        optimizer.step()\n",
        "\n",
        "        # Explicit destruction (may not be needed after  previous debugging)\n",
        "        del loss, prediction, sample, target\n",
        "\n",
        "    print(f\"Epoch {epoch} Complete\")\n",
        "    avg_loss = total_loss / len(data_loader)\n",
        "    checkpoint = {\n",
        "        \"model_state_dict\": model.state_dict(),\n",
        "        \"optimizer_state_dict\": optimizer.state_dict(),\n",
        "        \"epoch\": epoch,\n",
        "        \"loss\": avg_loss,\n",
        "    }\n",
        "    torch.save(checkpoint, SAVE_PATH)\n",
        "    write_to_file(epoch, losses, avg_loss, LOSSES_PATH)\n",
        "    losses.clear()\n",
        "\n",
        "end_time = time.time()\n"
      ]
    },
    {
      "cell_type": "code",
      "execution_count": 21,
      "metadata": {
        "id": "ldJ_LIxpQ30j"
      },
      "outputs": [],
      "source": [
        "optimizer.zero_grad()\n"
      ]
    },
    {
      "cell_type": "code",
      "execution_count": 22,
      "metadata": {
        "id": "9i0PC5qiqBgJ"
      },
      "outputs": [],
      "source": [
        "elapsed_time = end_time - start_time\n",
        "with open(TIMES_PATH, \"a\") as file:\n",
        "    file.write(f\"{elapsed_time}\")\n"
      ]
    },
    {
      "cell_type": "code",
      "execution_count": 23,
      "metadata": {},
      "outputs": [
        {
          "data": {
            "text/plain": [
              "184.83383345603943"
            ]
          },
          "execution_count": 23,
          "metadata": {},
          "output_type": "execute_result"
        }
      ],
      "source": [
        "elapsed_time\n"
      ]
    },
    {
      "cell_type": "code",
      "execution_count": 24,
      "metadata": {},
      "outputs": [
        {
          "name": "stderr",
          "output_type": "stream",
          "text": [
            "Bad pipe message: %s [b'\\xfcp\\x1dG\\xc1\\xb3\\xda\\x93I\\xaeK\\xcf\\xbe\\xfa\\x1fid\\x92 \\xf7=/\\x82}\\xb5\\x00F\\x7f\\x87\\xec\\xa6H)/\\xf3c\\x82\\x95%2\\xd6X\\x88\\xaf\\xe1\\xafy\\xb1\\r\\xe4\\xb5\\x00\\x08\\x13\\x02\\x13\\x03\\x13\\x01\\x00\\xff\\x01\\x00\\x00\\x8f\\x00\\x00\\x00\\x0e\\x00\\x0c\\x00\\x00\\t127.0.0.1\\x00\\x0b\\x00\\x04\\x03\\x00\\x01\\x02\\x00\\n\\x00\\x0c\\x00\\n\\x00\\x1d\\x00\\x17\\x00\\x1e\\x00\\x19\\x00\\x18\\x00#\\x00\\x00\\x00\\x16\\x00\\x00\\x00\\x17\\x00\\x00\\x00\\r\\x00\\x1e\\x00\\x1c\\x04\\x03\\x05\\x03\\x06\\x03\\x08\\x07\\x08\\x08\\x08\\t\\x08\\n\\x08\\x0b\\x08\\x04\\x08\\x05\\x08\\x06\\x04\\x01\\x05\\x01\\x06\\x01\\x00+\\x00\\x03\\x02\\x03\\x04\\x00-\\x00\\x02\\x01\\x01\\x003\\x00&\\x00$\\x00\\x1d\\x00 \\xb4\\xe8-\\x1a\\x97f^b\\xd4@H\\xac\\xc9\\xbd \\xb0_\\xe3\\xaf\\x8e\\xec\\xc7\\xc1\\xe6']\n",
            "Bad pipe message: %s [b'oL*\\xf1T\"\\xa9\\xb4\\xba\\xd3|\\xaf\\xaajn&r\\x87\\x00\\x00|\\xc0,\\xc00\\x00\\xa3\\x00\\x9f\\xcc\\xa9\\xcc\\xa8\\xcc\\xaa\\xc0\\xaf\\xc0\\xad\\xc0\\xa3\\xc0\\x9f\\xc0]\\xc0a\\xc0W\\xc0S\\xc0+\\xc0/\\x00\\xa2\\x00\\x9e\\xc0\\xae\\xc0\\xac\\xc0\\xa2\\xc0\\x9e\\xc0\\\\\\xc0`\\xc0V\\xc0R\\xc0$\\xc0(\\x00k\\x00j\\xc0#\\xc0\\'\\x00g\\x00@\\xc0\\n\\xc0\\x14\\x009\\x008\\xc0\\t\\xc0\\x13\\x003\\x002\\x00\\x9d\\xc0\\xa1\\xc0\\x9d\\xc0Q\\x00\\x9c\\xc0\\xa0\\xc0\\x9c\\xc0P\\x00=\\x00<\\x005\\x00/\\x00\\x9a\\x00\\x99\\xc0\\x07\\xc0\\x11\\x00\\x96\\x00\\x05\\x00\\xff\\x01\\x00\\x00j\\x00\\x00\\x00\\x0e\\x00\\x0c\\x00\\x00\\t127.0.0.1\\x00\\x0b\\x00\\x04\\x03\\x00\\x01\\x02\\x00\\n\\x00\\x0c\\x00\\n\\x00\\x1d\\x00\\x17\\x00\\x1e\\x00\\x19\\x00\\x18\\x00#\\x00\\x00\\x00\\x16\\x00\\x00\\x00\\x17\\x00\\x00\\x00']\n",
            "Bad pipe message: %s [b'0\\x00.\\x04\\x03\\x05\\x03\\x06\\x03\\x08\\x07\\x08']\n",
            "Bad pipe message: %s [b'\\t\\x08\\n\\x08\\x0b\\x08\\x04']\n",
            "Bad pipe message: %s [b'\\x08\\x06\\x04\\x01\\x05\\x01\\x06', b'', b'\\x03\\x03']\n",
            "Bad pipe message: %s [b'']\n",
            "Bad pipe message: %s [b'', b'\\x02']\n",
            "Bad pipe message: %s [b'\\x05\\x02\\x06']\n",
            "Bad pipe message: %s [b'\\xb1\\xaac\\xf7\\x8f)\\x96']\n",
            "Bad pipe message: %s [b'[\\xfb\\x1b\\xa6x\\reG\\xb6\\xf7\\x1e\\x0b\\x01\\xdb\\xd7e\\x10\\xd6\\x00\\x00\\xa2\\xc0\\x14\\xc0\\n\\x009\\x008\\x007\\x006\\x00\\x88\\x00\\x87\\x00\\x86\\x00\\x85\\xc0\\x19\\x00:\\x00\\x89\\xc0\\x0f\\xc0\\x05\\x005\\x00\\x84\\xc0\\x13\\xc0\\t\\x003\\x002\\x001\\x000\\x00\\x9a\\x00\\x99\\x00\\x98\\x00\\x97\\x00E\\x00D\\x00C\\x00B\\xc0\\x18\\x004\\x00\\x9b\\x00F\\xc0\\x0e\\xc0\\x04\\x00/\\x00\\x96\\x00A\\x00\\x07\\xc0\\x11\\xc0\\x07\\xc0\\x16\\x00\\x18\\xc0\\x0c\\xc0\\x02\\x00\\x05\\x00\\x04\\xc0\\x12\\xc0\\x08\\x00\\x16\\x00\\x13\\x00\\x10\\x00\\r\\xc0\\x17\\x00\\x1b\\xc0\\r\\xc0\\x03\\x00\\n\\x00\\x15\\x00\\x12\\x00\\x0f\\x00\\x0c\\x00\\x1a\\x00\\t\\x00', b'\\x11\\x00\\x19\\x00\\x08\\x00\\x06\\x00\\x17\\x00\\x03\\xc0\\x10\\xc0\\x06\\xc0\\x15\\xc0\\x0b']\n",
            "Bad pipe message: %s [b'\\xd835t]\\x04A\\xf5\\x98\\xea\\x9e\\x15\\xe4(M\\xe4JW\\x00\\x00\\xa2\\xc0\\x14\\xc0\\n\\x009\\x008\\x007\\x006\\x00\\x88\\x00\\x87\\x00\\x86\\x00\\x85\\xc0\\x19\\x00:\\x00\\x89\\xc0\\x0f\\xc0\\x05\\x005\\x00\\x84\\xc0\\x13\\xc0\\t\\x003\\x002\\x001\\x000\\x00\\x9a\\x00\\x99\\x00\\x98\\x00\\x97\\x00E\\x00D\\x00C\\x00B\\xc0\\x18\\x004\\x00\\x9b\\x00F\\xc0\\x0e\\xc0\\x04\\x00/\\x00\\x96\\x00A\\x00\\x07\\xc0\\x11\\xc0', b'\\x16\\x00\\x18\\xc0\\x0c\\xc0']\n",
            "Bad pipe message: %s [b'\\x05']\n",
            "Bad pipe message: %s [b'\\x1e\\xe5\\x10\\x8dt\\x81#\\xc1\\x85&\\xa7\\xbe\\x06h\\x9f\\x8d\\xff\\x1c\\x00\\x00\\xa2\\xc0\\x14\\xc0\\n\\x009\\x008\\x007\\x006\\x00\\x88\\x00\\x87\\x00\\x86\\x00\\x85\\xc0\\x19\\x00:\\x00\\x89\\xc0\\x0f\\xc0\\x05\\x005\\x00\\x84\\xc0\\x13\\xc0\\t\\x003\\x002\\x001\\x000\\x00\\x9a\\x00\\x99\\x00\\x98\\x00\\x97\\x00E\\x00D\\x00C\\x00B\\xc0\\x18\\x004\\x00\\x9b\\x00F\\xc0\\x0e\\xc0\\x04\\x00/\\x00\\x96\\x00A\\x00\\x07\\xc0\\x11\\xc0\\x07\\xc0\\x16\\x00\\x18\\xc0\\x0c\\xc0\\x02\\x00\\x05\\x00\\x04\\xc0\\x12\\xc0\\x08\\x00\\x16\\x00\\x13\\x00\\x10\\x00\\r\\xc0\\x17\\x00\\x1b\\xc0\\r\\xc0\\x03\\x00\\n\\x00\\x15\\x00\\x12\\x00\\x0f\\x00\\x0c\\x00\\x1a\\x00\\t\\x00\\x14\\x00\\x11\\x00\\x19\\x00\\x08\\x00\\x06\\x00\\x17\\x00\\x03\\xc0']\n",
            "Bad pipe message: %s [b'\\x06\\xc0\\x15\\xc0\\x0b\\xc0\\x01\\x00\\x02\\x00\\x01\\x00\\xff\\x02\\x01']\n",
            "Bad pipe message: %s [b\"\\x0c'Q5\\xd7g\\xe1\\xbf\\xb9\\xf6\\xe2\\x8dY\\x14c\\xa8z\\xc0\\x00\\x00\\xf4\\xc00\\xc0,\\xc0(\\xc0$\\xc0\\x14\\xc0\\n\\x00\\xa5\\x00\\xa3\\x00\\xa1\\x00\\x9f\\x00k\\x00j\\x00i\\x00h\\x009\\x008\\x007\\x006\\x00\\x88\\x00\\x87\\x00\\x86\\x00\\x85\\xc0\\x19\\x00\\xa7\\x00m\\x00:\\x00\\x89\\xc02\\xc0.\\xc0*\\xc0&\\xc0\\x0f\\xc0\\x05\\x00\\x9d\\x00=\\x005\\x00\\x84\\xc0/\\xc0+\\xc0\"]\n",
            "Bad pipe message: %s [b'#\\xc0\\x13\\xc0\\t\\x00\\xa4\\x00\\xa2\\x00\\xa0\\x00\\x9e\\x00g\\x00@\\x00?\\x00>\\x003\\x002\\x001\\x000\\x00\\x9a\\x00\\x99\\x00\\x98\\x00\\x97\\x00']\n",
            "Bad pipe message: %s [b'D\\x00C\\x00B\\xc0\\x18\\x00\\xa6\\x00l\\x004\\x00\\x9b\\x00F\\xc01\\xc0-\\xc0)\\xc0%\\xc0\\x0e\\xc0\\x04\\x00\\x9c\\x00<\\x00/\\x00\\x96\\x00A\\x00\\x07\\xc0\\x11\\xc0\\x07\\xc0\\x16\\x00\\x18\\xc0\\x0c\\xc0\\x02\\x00\\x05\\x00\\x04\\xc0\\x12\\xc0\\x08\\x00\\x16\\x00\\x13\\x00\\x10\\x00']\n",
            "Bad pipe message: %s [b'\\x17\\x00\\x1b\\xc0\\r\\xc0\\x03\\x00\\n\\x00\\x15\\x00']\n",
            "Bad pipe message: %s [b'\\x0f\\x00\\x0c\\x00\\x1a\\x00\\t\\x00\\x14\\x00\\x11\\x00\\x19\\x00\\x08\\x00\\x06']\n",
            "Bad pipe message: %s [b'\\xe0\\xe5\\x9b\\x1c\\x1f\\xca\\xe9\\x9f\\x8e\\xf9\\xea\\x82\\xc7\\xe9\\x11\\x9c\\x0f\\xcc \\x1er\\xef\\xcd\\x99:\\xf8\\x98j\\x9c\\x05\\x90\\n\\xeftf\\xf8\\xe4g']\n",
            "Bad pipe message: %s [b\"'\\x10<P\\x1c\\xa5j\\xbbk\\x05\\xf4\\x00\\x08\\x13\\x02\\x13\\x03\\x13\"]\n",
            "Bad pipe message: %s [b'']\n",
            "Bad pipe message: %s [b\"\\\\*\\xc8\\xcc';\\xdf\\xfa?\\x13z\\xee\\xfd\\xe0\\xbe\\xa7I9\\x00\\x00|\\xc0,\\xc00\\x00\\xa3\\x00\\x9f\\xcc\\xa9\\xcc\\xa8\\xcc\\xaa\\xc0\\xaf\\xc0\\xad\\xc0\\xa3\\xc0\\x9f\\xc0]\\xc0a\\xc0W\\xc0S\\xc0+\\xc0/\\x00\\xa2\\x00\\x9e\\xc0\\xae\\xc0\\xac\\xc0\\xa2\\xc0\\x9e\\xc0\\\\\\xc0`\\xc0V\\xc0R\\xc0$\\xc0(\\x00\", b\"j\\xc0#\\xc0'\\x00g\\x00@\\xc0\\n\\xc0\\x14\\x009\\x008\\xc0\\t\\xc0\\x13\\x003\\x002\\x00\\x9d\\xc0\\xa1\\xc0\\x9d\\xc0Q\\x00\\x9c\\xc0\\xa0\\xc0\\x9c\\xc0P\\x00=\\x00<\\x005\\x00/\\x00\\x9a\\x00\\x99\\xc0\\x07\\xc0\\x11\\x00\\x96\\x00\\x05\\x00\\xff\\x01\\x00\\x00j\\x00\\x00\\x00\\x0e\\x00\\x0c\\x00\\x00\\t127.0.0.1\\x00\\x0b\\x00\\x04\\x03\\x00\\x01\\x02\\x00\\n\\x00\\x0c\\x00\\n\\x00\\x1d\\x00\\x17\\x00\\x1e\\x00\"]\n",
            "Bad pipe message: %s [b'\\x18\\x00#\\x00\\x00\\x00\\x16\\x00\\x00\\x00\\x17\\x00\\x00\\x00\\r\\x000\\x00.\\x04\\x03\\x05\\x03\\x06']\n",
            "Bad pipe message: %s [b'\\x07\\x08']\n",
            "Bad pipe message: %s [b'\\t\\x08\\n\\x08\\x0b\\x08\\x04']\n",
            "Bad pipe message: %s [b\"M\\\\\\x97\\x81z\\xc4\\xcdsH#@\\xdd'\\xe1\\x8d\\x00\\x10y\\x00\\x00\\xa6\\xc0,\\xc00\\x00\\xa3\\x00\\x9f\\xcc\\xa9\\xcc\\xa8\\xcc\\xaa\\xc0\\xaf\\xc0\\xad\\xc0\\xa3\\xc0\\x9f\\xc0]\\xc0a\\xc0W\\xc0S\\xc0+\\xc0/\\x00\\xa2\\x00\\x9e\\xc0\\xae\\xc0\\xac\\xc0\\xa2\\xc0\\x9e\\xc0\\\\\\xc0`\\xc0V\\xc0R\\xc0$\\xc0(\\x00k\\x00j\\xc0s\\xc0w\\x00\\xc4\\x00\\xc3\\xc0#\\xc0'\\x00g\\x00@\\xc0r\\xc0v\\x00\\xbe\\x00\\xbd\\xc0\\n\\xc0\\x14\\x009\\x008\\x00\\x88\\x00\\x87\\xc0\\t\\xc0\\x13\\x003\\x002\\x00\\x9a\\x00\\x99\\x00E\\x00D\\xc0\\x07\\xc0\\x11\\xc0\\x08\\xc0\\x12\\x00\\x16\\x00\\x13\\x00\\x9d\\xc0\\xa1\\xc0\\x9d\\xc0Q\\x00\\x9c\\xc0\\xa0\\xc0\\x9c\\xc0P\\x00=\\x00\\xc0\\x00<\\x00\\xba\\x005\\x00\\x84\\x00/\\x00\\x96\\x00A\\x00\\x05\\x00\\n\\x00\\xff\\x01\\x00\\x00j\\x00\\x00\\x00\\x0e\\x00\\x0c\\x00\\x00\\t127.0.0.1\\x00\\x0b\\x00\\x04\\x03\\x00\\x01\\x02\\x00\\n\\x00\\x0c\\x00\\n\\x00\\x1d\\x00\\x17\\x00\\x1e\\x00\", b'\\x18\\x00#\\x00\\x00\\x00\\x16\\x00\\x00\\x00\\x17\\x00\\x00\\x00\\r\\x000\\x00.\\x04\\x03\\x05\\x03\\x06']\n",
            "Bad pipe message: %s [b'\\x08\\x06\\x04\\x01\\x05\\x01\\x06', b'', b'\\x03\\x03']\n",
            "Bad pipe message: %s [b'\\x07\\x08']\n",
            "Bad pipe message: %s [b'']\n",
            "Bad pipe message: %s [b'\\t\\x08\\n\\x08\\x0b\\x08\\x04']\n",
            "Bad pipe message: %s [b'', b'\\x02']\n",
            "Bad pipe message: %s [b'\\x08\\x06\\x04\\x01\\x05\\x01\\x06', b'', b'\\x03\\x03']\n",
            "Bad pipe message: %s [b'\\x05\\x02\\x06']\n",
            "Bad pipe message: %s [b'']\n",
            "Bad pipe message: %s [b'-e\\xc5\\x9ap\\x14\\xbaR\\x19\\x14~:(\\xa7\\x18\\x86\\x8d\\x8d\\x00\\x00\\xa2\\xc0\\x14\\xc0\\n\\x009\\x008\\x007\\x006\\x00\\x88\\x00\\x87\\x00\\x86\\x00\\x85\\xc0\\x19\\x00:\\x00\\x89\\xc0\\x0f\\xc0\\x05\\x005\\x00\\x84\\xc0\\x13\\xc0\\t\\x003\\x002\\x001\\x000\\x00\\x9a\\x00\\x99\\x00\\x98\\x00\\x97\\x00E\\x00D\\x00C\\x00B\\xc0\\x18\\x004\\x00\\x9b\\x00F\\xc0\\x0e\\xc0\\x04\\x00/\\x00\\x96\\x00A\\x00\\x07\\xc0\\x11\\xc0\\x07\\xc0\\x16\\x00\\x18\\xc0\\x0c\\xc0\\x02\\x00\\x05\\x00\\x04\\xc0\\x12\\xc0\\x08\\x00\\x16\\x00\\x13\\x00\\x10\\x00\\r\\xc0\\x17\\x00\\x1b\\xc0\\r\\xc0\\x03\\x00\\n\\x00\\x15\\x00\\x12\\x00\\x0f\\x00\\x0c\\x00\\x1a\\x00\\t\\x00\\x14\\x00']\n",
            "Bad pipe message: %s [b'\\x19\\x00\\x08\\x00\\x06\\x00\\x17\\x00\\x03\\xc0\\x10\\xc0\\x06\\xc0\\x15\\xc0']\n",
            "Bad pipe message: %s [b'', b'\\x02']\n",
            "Bad pipe message: %s [b'\\x01\\x00\\x02\\x00\\x01\\x00\\xff\\x02\\x01\\x00']\n",
            "Bad pipe message: %s [b'\\x05\\x02\\x06']\n",
            "Bad pipe message: %s [b')\\xcf`\\xc7\\xd0\\xeb\\x08\\xb0\\x8a\\x8e\\x98RKB\\t\\xbd\"\\xac\\x00']\n",
            "Bad pipe message: %s [b'\\xe9\\xee\\xcbx\\x1b\\x08\\x16\\xc9\\xf5\\xa1\\x04Q\\xc9\\xf6#\\xc3[V\\x00\\x00\\xa2\\xc0\\x14\\xc0\\n\\x009\\x008\\x007\\x006\\x00\\x88\\x00\\x87\\x00\\x86\\x00\\x85\\xc0\\x19\\x00:\\x00\\x89\\xc0\\x0f\\xc0\\x05\\x005\\x00\\x84\\xc0\\x13\\xc0\\t\\x003\\x002\\x001\\x000\\x00\\x9a\\x00\\x99\\x00\\x98\\x00\\x97\\x00E\\x00D\\x00C\\x00B\\xc0\\x18\\x004\\x00\\x9b\\x00F\\xc0\\x0e\\xc0\\x04\\x00/\\x00\\x96\\x00A\\x00\\x07\\xc0\\x11\\xc0\\x07\\xc0\\x16\\x00\\x18\\xc0\\x0c\\xc0\\x02\\x00\\x05\\x00\\x04\\xc0\\x12\\xc0\\x08\\x00\\x16\\x00\\x13\\x00\\x10\\x00\\r\\xc0\\x17\\x00\\x1b\\xc0\\r\\xc0\\x03\\x00\\n\\x00\\x15\\x00\\x12\\x00\\x0f\\x00\\x0c\\x00\\x1a\\x00\\t\\x00\\x14\\x00\\x11\\x00\\x19\\x00\\x08\\x00\\x06']\n",
            "Bad pipe message: %s [b'\\x1ea0\\xbc\\xb8k\\xf8\\xb8\\x1aCJ\\n\\xc1Ma=B\\xb6\\x00\\x00\\xa2\\xc0\\x14\\xc0\\n\\x009\\x008\\x007\\x006\\x00\\x88\\x00\\x87\\x00\\x86\\x00\\x85\\xc0\\x19\\x00', b'\\x89\\xc0\\x0f\\xc0\\x05\\x005\\x00\\x84\\xc0\\x13\\xc0\\t\\x003\\x002\\x001\\x000\\x00\\x9a\\x00\\x99\\x00\\x98\\x00\\x97\\x00E\\x00D\\x00C\\x00B\\xc0\\x18\\x004\\x00\\x9b\\x00F\\xc0\\x0e\\xc0\\x04\\x00/\\x00\\x96\\x00A\\x00\\x07']\n",
            "Bad pipe message: %s [b'\\xadd\\x1d\\xe8\\xaa\\x89\\xe3\\x1e}\\xc0o\\x0c@\\x98-G\\xaf\\x85\\x00\\x00\\x86\\xc00\\xc0,\\xc0(', b\"\\xc0\\x14\\xc0\\n\\x00\\xa5\\x00\\xa3\\x00\\xa1\\x00\\x9f\\x00k\\x00j\\x00i\\x00h\\x009\\x008\\x007\\x006\\xc02\\xc0.\\xc0*\\xc0&\\xc0\\x0f\\xc0\\x05\\x00\\x9d\\x00=\\x005\\xc0/\\xc0+\\xc0'\\xc0#\\xc0\\x13\\xc0\\t\\x00\\xa4\\x00\\xa2\\x00\\xa0\\x00\\x9e\\x00g\\x00@\\x00?\\x00>\\x003\\x002\\x001\\x000\\xc01\\xc0-\\xc0)\\xc0%\\xc0\\x0e\\xc0\\x04\\x00\\x9c\\x00<\\x00/\\x00\\x9a\\x00\\x99\\x00\\x98\\x00\\x97\\x00\\x96\\x00\\x07\\xc0\\x11\\xc0\\x07\\xc0\\x0c\\xc0\\x02\\x00\\x05\\x00\\x04\\x00\\xff\\x02\\x01\\x00\\x00g\\x00\\x00\\x00\\x0e\\x00\\x0c\\x00\\x00\\t127.0.0.1\\x00\\x0b\\x00\\x04\\x03\\x00\\x01\\x02\\x00\\n\\x00\\x1c\\x00\\x1a\\x00\\x17\\x00\\x19\\x00\\x1c\\x00\\x1b\\x00\\x18\\x00\\x1a\\x00\\x16\\x00\\x0e\\x00\\r\\x00\\x0b\\x00\\x0c\\x00\\t\\x00\\n\\x00#\"]\n",
            "Bad pipe message: %s [b'O\\x0e\\xb5\\x83\\x83~7\\x0e\\xe0@=\\x8d\\x11\\xf2\\x9c\\xeb\\x18\\xd3\\x00\\x00\\xf4\\xc00\\xc0,\\xc0(\\xc0$\\xc0\\x14\\xc0\\n\\x00\\xa5\\x00\\xa3\\x00\\xa1\\x00\\x9f\\x00k\\x00j\\x00i\\x00h\\x009\\x008\\x007\\x006\\x00\\x88\\x00\\x87\\x00\\x86\\x00\\x85\\xc0\\x19\\x00\\xa7\\x00m\\x00:\\x00']\n",
            "Bad pipe message: %s [b\"2\\xc0.\\xc0*\\xc0&\\xc0\\x0f\\xc0\\x05\\x00\\x9d\\x00=\\x005\\x00\\x84\\xc0/\\xc0+\\xc0'\\xc0#\\xc0\\x13\\xc0\\t\\x00\\xa4\\x00\\xa2\\x00\\xa0\\x00\\x9e\\x00g\\x00@\\x00?\\x00>\\x003\\x002\\x001\\x000\\x00\\x9a\\x00\\x99\\x00\\x98\\x00\\x97\\x00E\\x00D\\x00C\\x00B\\xc0\\x18\\x00\\xa6\\x00l\\x004\\x00\\x9b\\x00F\\xc01\\xc0-\\xc0)\\xc0%\\xc0\\x0e\\xc0\\x04\\x00\\x9c\\x00<\\x00/\\x00\\x96\\x00A\\x00\\x07\\xc0\\x11\\xc0\\x07\\xc0\\x16\\x00\\x18\\xc0\\x0c\\xc0\\x02\\x00\\x05\\x00\\x04\\xc0\\x12\\xc0\\x08\\x00\\x16\\x00\\x13\\x00\\x10\\x00\\r\\xc0\"]\n",
            "Bad pipe message: %s [b'\\x1b\\xc0\\r\\xc0\\x03\\x00\\n\\x00\\x15\\x00\\x12\\x00\\x0f\\x00\\x0c\\x00\\x1a\\x00\\t\\x00\\x14\\x00']\n",
            "Bad pipe message: %s [b'\\x19\\x00\\x08\\x00\\x06\\x00\\x17\\x00\\x03\\xc0\\x10\\xc0\\x06\\xc0\\x15\\xc0']\n",
            "Bad pipe message: %s [b'\\x01\\x00;\\x00\\x02\\x00\\x01\\x00\\xff\\x02']\n",
            "Bad pipe message: %s [b'']\n"
          ]
        }
      ],
      "source": [
        "cleanup()\n"
      ]
    },
    {
      "cell_type": "markdown",
      "metadata": {},
      "source": [
        "With the following configuration:\n",
        "\n",
        "@dataclass\n",
        "class ModelArgs:\n",
        "    dim: int = 1024\n",
        "    n_layers: int = 8\n",
        "    n_heads: int = 8\n",
        "    n_kv_heads: Optional[int] = None\n",
        "    vocab_size: int = -1  # defined later by tokenizer\n",
        "    multiple_of: int = 64  # make SwiGLU hidden layer size multiple of large power of 2\n",
        "    ffn_dim_multiplier: Optional[float] = None\n",
        "    norm_eps: float = 1e-5\n",
        "\n",
        "    max_batch_size: int = 32\n",
        "    max_seq_len: int = 512\n",
        "\n",
        "There are 166740992 parameters\n",
        "\n",
        "To train across 156 batches -> 4992 Rows (32 sized batch), it took 185 sec\n",
        "\n",
        "The model trains at 1619 Rows per Minute. -> Round down to 1500 Rows per minute.\n",
        "\n",
        "1440 minutes per day.\n",
        "\n",
        "With 1.5M Rows, we train for \n",
        "\n",
        "1.5M * 1 / 1500 * 1 / 1440 = 0.7 days"
      ]
    }
  ],
  "metadata": {
    "accelerator": "GPU",
    "colab": {
      "gpuType": "V100",
      "machine_shape": "hm",
      "provenance": []
    },
    "kernelspec": {
      "display_name": "Python 3",
      "name": "python3"
    },
    "language_info": {
      "codemirror_mode": {
        "name": "ipython",
        "version": 3
      },
      "file_extension": ".py",
      "mimetype": "text/x-python",
      "name": "python",
      "nbconvert_exporter": "python",
      "pygments_lexer": "ipython3",
      "version": "3.8.16"
    }
  },
  "nbformat": 4,
  "nbformat_minor": 0
}
